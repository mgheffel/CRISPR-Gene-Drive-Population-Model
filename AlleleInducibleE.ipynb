{
 "cells": [
  {
   "cell_type": "code",
   "execution_count": 20,
   "metadata": {},
   "outputs": [],
   "source": [
    "#imports\n",
    "import matplotlib.pyplot as plt\n",
    "import numpy as np\n",
    "import pandas as pd"
   ]
  },
  {
   "cell_type": "code",
   "execution_count": 21,
   "metadata": {},
   "outputs": [],
   "source": [
    "#graphing functions\n",
    "def plotGenotype_2D(graphInfo, title=\"Genotype Generation plot\"):\n",
    "    fig=plt.figure()\n",
    "    plt.plot(graphInfo[\"xPlots\"],graphInfo[\"WPlots\"],'b-')\n",
    "    plt.plot(graphInfo[\"xPlots\"],graphInfo[\"DPlots\"],'r-')\n",
    "    plt.plot(graphInfo[\"xPlots\"],graphInfo[\"HPlots\"],'m-')\n",
    "    plt.axis([0,len(graphInfo[\"xPlots\"]),0,1])\n",
    "    plt.show()\n",
    "def plotAllele_2D(graphInfo, title=\"Allele Generation Plot\"):\n",
    "    fig=plt.figure()\n",
    "    plt.plot(graphInfo[\"xPlots\"],graphInfo[\"wPlots\"],'b-')\n",
    "    plt.plot(graphInfo[\"xPlots\"],graphInfo[\"dPlots\"],'r-')\n",
    "    plt.axis([0,len(graphInfo[\"xPlots\"]),0,1])\n",
    "    plt.show()\n",
    "def model_3D(X,Y,Z,xLabel,yLabel, title):\n",
    "    #3D graph\n",
    "    import matplotlib.pyplot as plt\n",
    "    from matplotlib import cm\n",
    "    min=1000\n",
    "    max=-1000\n",
    "    for rIndex in range(len(Z)):\n",
    "        for cIndex in range(len(Z[rIndex])):\n",
    "            if Z[rIndex][cIndex]<min:\n",
    "                min=Z[rIndex][cIndex]\n",
    "            if Z[rIndex][cIndex]>max:\n",
    "                max=Z[rIndex][cIndex]\n",
    "    if min<-max:\n",
    "        max=-min\n",
    "    else:\n",
    "        min=-max\n",
    "    \n",
    "    #label axes\n",
    "    plt.xlabel(xLabel, fontdict=None, labelpad=None)\n",
    "    plt.ylabel(yLabel, fontdict=None, labelpad=None)\n",
    "    plt.title(title)\n",
    "\n",
    "    \n",
    "    plt.axis(aspect='image');\n",
    "    plt.imshow(Z, origin='lower', extent=([0, 1, 0, 1]), vmax=max, vmin=min, cmap=cm.coolwarm)\n",
    "    plt.show()"
   ]
  },
  {
   "cell_type": "code",
   "execution_count": 30,
   "metadata": {},
   "outputs": [],
   "source": [
    "#model functions\n",
    "def update_vars(oldDataDict, newDataDict):\n",
    "    for key in newDataDict.keys():\n",
    "        oldDataDict[key]=newDataDict[key]\n",
    "    return oldDataDict\n",
    "def run_generation_iE(simData):\n",
    "    w=simData['qW']\n",
    "    d=simData['qD']\n",
    "    fW=simData['fW']\n",
    "    fD=simData['fD']\n",
    "    h=simData['h']\n",
    "    fH=fW*(1-h)+fD*h\n",
    "    fH=1-(1-fD)*h\n",
    "    a=simData['a']\n",
    "    if simData['curGen']<=simData['induceStart']:\n",
    "        e=simData['e']\n",
    "    else:\n",
    "        e=a*simData['eP']+(1-a)*simData['e']\n",
    "    #prevent redundant multiplication and create less rounding errors\n",
    "    w2=w*w\n",
    "    wd=w*d\n",
    "    d2=d*d\n",
    "    fBar=1-((1-fW)*w2+(1-fD)*(d2+2*wd*e)+(1-fH)*(2*wd*(1-e)))\n",
    "    wPrime=(fW*w2+fH*(wd*(1-e)))\n",
    "    dPrime=(fD*(d2+2*wd*e)+fH*(wd*(1-e)))\n",
    "    #wPrime=(fW*w2+fH*(wd*(1-e)))/fBar\n",
    "    #dPrime=(fD*(d2+2*wd*e)+fH*(wd*(1-e)))/fBar\n",
    "    #print({'w':wPrime, 'd':dPrime,'fB':1-fBar})\n",
    "    #print(wPrime+dPrime+(1-fBar))\n",
    "    wPrime/=fBar\n",
    "    dPrime/=fBar\n",
    "    \n",
    "    #remove rounding errors\n",
    "    total=wPrime+dPrime\n",
    "    if total!=1:\n",
    "        wPrime/=total\n",
    "        dPrime/=total\n",
    "\n",
    "    \n",
    "    homoW=(fW*w2)/fBar\n",
    "    homoD=(fD*(d2+2*wd*e))/fBar\n",
    "    #print(1-e)\n",
    "    #print(2*wd)\n",
    "    #print(fH)\n",
    "    #print(fBar)\n",
    "    heterozygote=(fH*(2*wd*(1-e)))/fBar\n",
    "    #print(heterozygote)\n",
    "    return {'qW':wPrime,'qD':dPrime,'WW':homoW,'DD':homoD,'WD':heterozygote}\n",
    "\n",
    "    \n",
    "def run_simulation_iE(simData,graph=False,debug=False):\n",
    "    graphInfo={\"xPlots\": [0], \"WPlots\": [simData['qW']], \"DPlots\": [simData['qD']], \"HPlots\": [0], \"wPlots\":[simData['qW']], \"dPlots\":[simData['qD']]}\n",
    "    for i in range(1,simData['generations']+1):\n",
    "        simData['curGen']=i\n",
    "        update_vars(simData,run_generation_iE(simData))\n",
    "        graphInfo['xPlots'].append(i)\n",
    "        graphInfo['wPlots'].append(simData['qW'])\n",
    "        graphInfo['dPlots'].append(simData['qD'])\n",
    "        graphInfo['WPlots'].append(simData['WW'])\n",
    "        graphInfo['DPlots'].append(simData['DD'])\n",
    "        graphInfo['HPlots'].append(simData['WD'])\n",
    "        if simData['qW']>.99999:\n",
    "            if graph:\n",
    "                plotGenotype_2D(graphInfo)\n",
    "                plotAllele_2D(graphInfo)\n",
    "            if debug:\n",
    "                print(pd.DataFrame(graphInfo))\n",
    "            return -(i**(1/4))\n",
    "        elif simData['qD']>.99999:\n",
    "            if graph:\n",
    "                plotGenotype_2D(graphInfo)\n",
    "                plotAllele_2D(graphInfo)\n",
    "            if debug:\n",
    "                print(pd.DataFrame(graphInfo))\n",
    "            return i**(1/4)\n",
    "    if graph:\n",
    "        plotGenotype_2D(graphInfo)\n",
    "        plotAllele_2D(graphInfo)\n",
    "    if debug:\n",
    "        print(pd.DataFrame(graphInfo))\n",
    "    return 0"
   ]
  },
  {
   "cell_type": "code",
   "execution_count": 32,
   "metadata": {},
   "outputs": [
    {
     "name": "stdout",
     "output_type": "stream",
     "text": [
      "0.09999999999999998\n",
      "0.255\n",
      "1.0\n",
      "1.0\n",
      "0.025499999999999995\n",
      "{'qW': 0.73525, 'qD': 0.26475, 'WW': 0.7224999999999999, 'DD': 0.252, 'WD': 0.025499999999999995}\n",
      "0.09999999999999998\n",
      "0.255\n",
      "0.9\n",
      "0.9470500000000001\n",
      "0.024233145029301507\n",
      "{'qW': 0.7750118789926614, 'qD': 0.2249881210073386, 'WW': 0.7628953064780105, 'DD': 0.2128715484926878, 'WD': 0.024233145029301507}\n"
     ]
    }
   ],
   "source": [
    "simData={'qW':.85,'qD':.15,'fW':1,'fD':1,'e':.9,'h':.5,'eP':.9,'a':0,'generations':1000,'induceStart':10,'curGen':1}\n",
    "print(run_generation_iE(simData))\n",
    "\n",
    "W=.8\n",
    "D=.1\n",
    "H=.1\n",
    "simData={'qW':.85,'qD':.15,'fW':1,'fD':.8,'e':.9,'h':.5,'eP':.9,'a':0,'generations':1000,'induceStart':10,'curGen':1}\n",
    "qW=simData['qW']\n",
    "print(run_generation_iE(simData))\n"
   ]
  },
  {
   "cell_type": "code",
   "execution_count": 24,
   "metadata": {
    "scrolled": true
   },
   "outputs": [
    {
     "data": {
      "image/png": "[encoded data removed]",
      "text/plain": [
       "<Figure size 432x288 with 1 Axes>"
      ]
     },
     "metadata": {},
     "output_type": "display_data"
    },
    {
     "data": {
      "image/png": "[encoded data removed]",
      "text/plain": [
       "<Figure size 432x288 with 1 Axes>"
      ]
     },
     "metadata": {},
     "output_type": "display_data"
    },
    {
     "name": "stdout",
     "output_type": "stream",
     "text": [
      "       DPlots    HPlots    WPlots    dPlots    wPlots  xPlots\n",
      "0    0.001000  0.000000  0.999000  0.001000  0.999000       0\n",
      "1    0.001120  0.000340  0.998540  0.001290  0.998710       1\n",
      "2    0.001445  0.000438  0.998116  0.001664  0.998336       2\n",
      "3    0.001865  0.000565  0.997570  0.002147  0.997853       3\n",
      "4    0.002406  0.000729  0.996865  0.002771  0.997229       4\n",
      "5    0.003105  0.000941  0.995955  0.003575  0.996425       5\n",
      "6    0.004006  0.001213  0.994780  0.004613  0.995387       6\n",
      "7    0.005170  0.001565  0.993264  0.005953  0.994047       7\n",
      "8    0.006674  0.002018  0.991308  0.007683  0.992317       8\n",
      "9    0.008616  0.002603  0.988781  0.009917  0.990083       9\n",
      "10   0.011125  0.003356  0.985518  0.012804  0.987196      10\n",
      "11   0.003137  0.017915  0.978948  0.012095  0.987905      11\n",
      "12   0.002959  0.016931  0.980111  0.011424  0.988576      12\n",
      "13   0.002790  0.015999  0.981210  0.010790  0.989210      13\n",
      "14   0.002632  0.015118  0.982251  0.010191  0.989809      14\n",
      "15   0.002482  0.014283  0.983234  0.009624  0.990376      15\n",
      "16   0.002341  0.013494  0.984165  0.009088  0.990912      16\n",
      "17   0.002208  0.012748  0.985044  0.008582  0.991418      17\n",
      "18   0.002083  0.012041  0.985876  0.008104  0.991896      18\n",
      "19   0.001965  0.011374  0.986662  0.007651  0.992349      19\n",
      "20   0.001853  0.010742  0.987405  0.007224  0.992776      20\n",
      "21   0.001748  0.010145  0.988107  0.006821  0.993179      21\n",
      "22   0.001649  0.009581  0.988770  0.006439  0.993561      22\n",
      "23   0.001555  0.009048  0.989397  0.006079  0.993921      23\n",
      "24   0.001467  0.008544  0.989989  0.005739  0.994261      24\n",
      "25   0.001384  0.008067  0.990549  0.005418  0.994582      25\n",
      "26   0.001305  0.007617  0.991077  0.005114  0.994886      26\n",
      "27   0.001231  0.007192  0.991577  0.004827  0.995173      27\n",
      "28   0.001162  0.006790  0.992048  0.004557  0.995443      28\n",
      "29   0.001096  0.006410  0.992494  0.004301  0.995699      29\n",
      "..        ...       ...       ...       ...       ...     ...\n",
      "105  0.000013  0.000078  0.999909  0.000052  0.999948     105\n",
      "106  0.000012  0.000074  0.999914  0.000049  0.999951     106\n",
      "107  0.000012  0.000069  0.999919  0.000046  0.999954     107\n",
      "108  0.000011  0.000065  0.999923  0.000044  0.999956     108\n",
      "109  0.000010  0.000062  0.999928  0.000041  0.999959     109\n",
      "110  0.000010  0.000058  0.999932  0.000039  0.999961     110\n",
      "111  0.000009  0.000055  0.999936  0.000037  0.999963     111\n",
      "112  0.000009  0.000052  0.999939  0.000035  0.999965     112\n",
      "113  0.000008  0.000049  0.999943  0.000033  0.999967     113\n",
      "114  0.000008  0.000046  0.999946  0.000031  0.999969     114\n",
      "115  0.000007  0.000044  0.999949  0.000029  0.999971     115\n",
      "116  0.000007  0.000041  0.999952  0.000027  0.999973     116\n",
      "117  0.000007  0.000039  0.999955  0.000026  0.999974     117\n",
      "118  0.000006  0.000037  0.999957  0.000024  0.999976     118\n",
      "119  0.000006  0.000035  0.999960  0.000023  0.999977     119\n",
      "120  0.000005  0.000033  0.999962  0.000022  0.999978     120\n",
      "121  0.000005  0.000031  0.999964  0.000021  0.999979     121\n",
      "122  0.000005  0.000029  0.999966  0.000019  0.999981     122\n",
      "123  0.000005  0.000027  0.999968  0.000018  0.999982     123\n",
      "124  0.000004  0.000026  0.999970  0.000017  0.999983     124\n",
      "125  0.000004  0.000024  0.999972  0.000016  0.999984     125\n",
      "126  0.000004  0.000023  0.999973  0.000015  0.999985     126\n",
      "127  0.000004  0.000022  0.999975  0.000014  0.999986     127\n",
      "128  0.000003  0.000020  0.999976  0.000014  0.999986     128\n",
      "129  0.000003  0.000019  0.999977  0.000013  0.999987     129\n",
      "130  0.000003  0.000018  0.999979  0.000012  0.999988     130\n",
      "131  0.000003  0.000017  0.999980  0.000011  0.999989     131\n",
      "132  0.000003  0.000016  0.999981  0.000011  0.999989     132\n",
      "133  0.000003  0.000015  0.999982  0.000010  0.999990     133\n",
      "134  0.000002  0.000014  0.999983  0.000010  0.999990     134\n",
      "\n",
      "[135 rows x 6 columns]\n"
     ]
    },
    {
     "data": {
      "text/plain": [
       "-3.402328159186034"
      ]
     },
     "execution_count": 24,
     "metadata": {},
     "output_type": "execute_result"
    }
   ],
   "source": [
    "simData={'qW':.999,'qD':.001,'qH':0,'fW':1,'fD':.7,'e':.8,'h':.5,'eP':.1,'a':.9,'generations':1000,'induceStart':10}\n",
    "run_simulation_iE(simData,True,True)"
   ]
  },
  {
   "cell_type": "code",
   "execution_count": null,
   "metadata": {},
   "outputs": [],
   "source": []
  }
 ],
 "metadata": {
  "kernelspec": {
   "display_name": "Python 3",
   "language": "python",
   "name": "python3"
  },
  "language_info": {
   "codemirror_mode": {
    "name": "ipython",
    "version": 3
   },
   "file_extension": ".py",
   "mimetype": "text/x-python",
   "name": "python",
   "nbconvert_exporter": "python",
   "pygments_lexer": "ipython3",
   "version": "3.6.4"
  }
 },
 "nbformat": 4,
 "nbformat_minor": 2
}
